{
  "nbformat": 4,
  "nbformat_minor": 0,
  "metadata": {
    "colab": {
      "name": "KNN_vs_DecisionTree.ipynb",
      "version": "0.3.2",
      "provenance": []
    },
    "kernelspec": {
      "name": "python3",
      "display_name": "Python 3"
    }
  },
  "cells": [
    {
      "cell_type": "code",
      "metadata": {
        "id": "U1n-llYffk6C",
        "colab_type": "code",
        "colab": {}
      },
      "source": [
        "#importing datasets and library required\n",
        "\n",
        "from sklearn.tree import DecisionTreeClassifier as DTC\n",
        "from sklearn.neighbors import KNeighborsClassifier as KNN\n",
        "from matplotlib import pyplot as plt\n",
        "from sklearn.datasets import load_iris\n",
        "from sklearn.metrics import accuracy_score\n",
        "from sklearn.model_selection import train_test_split as tts\n",
        "import numpy as np"
      ],
      "execution_count": 0,
      "outputs": []
    },
    {
      "cell_type": "code",
      "metadata": {
        "id": "QcTfR3iJgXbZ",
        "colab_type": "code",
        "colab": {}
      },
      "source": [
        "K=np.array([3,5,7,9]) #different K values"
      ],
      "execution_count": 0,
      "outputs": []
    },
    {
      "cell_type": "code",
      "metadata": {
        "id": "VS-e385EhIuC",
        "colab_type": "code",
        "colab": {
          "base_uri": "https://localhost:8080/",
          "height": 35
        },
        "outputId": "d6221416-5762-4692-c213-70a119cd276b"
      },
      "source": [
        "#taking % input from user \n",
        "percnt=int(input(\"Enter % of test data eg:- 10, 20 \"))/100"
      ],
      "execution_count": 53,
      "outputs": [
        {
          "output_type": "stream",
          "text": [
            "Enter % of test data eg:- 10, 20 20\n"
          ],
          "name": "stdout"
        }
      ]
    },
    {
      "cell_type": "code",
      "metadata": {
        "id": "XwzgO1KCiBCM",
        "colab_type": "code",
        "colab": {}
      },
      "source": [
        "#loading data and spliting it\n",
        "Iris=load_iris()\n",
        "data=Iris.data\n",
        "answer=Iris.target\n",
        "\n",
        "train_data,test_data,train_target,test_target=tts(data,answer,test_size=percnt)\n"
      ],
      "execution_count": 0,
      "outputs": []
    },
    {
      "cell_type": "code",
      "metadata": {
        "id": "pY8AEylLhXCE",
        "colab_type": "code",
        "colab": {}
      },
      "source": [
        "#creating DTC classifers\n",
        "\n",
        "DTC_class=DTC()"
      ],
      "execution_count": 0,
      "outputs": []
    },
    {
      "cell_type": "code",
      "metadata": {
        "id": "wWb1EFGqixP2",
        "colab_type": "code",
        "colab": {}
      },
      "source": [
        "#now training classifier initially only DecisionTree as it does not have any KNN like input\n",
        "\n",
        "DTC_iris=DTC_class.fit(train_data,train_target)"
      ],
      "execution_count": 0,
      "outputs": []
    },
    {
      "cell_type": "code",
      "metadata": {
        "id": "AF55YsU5j4Rq",
        "colab_type": "code",
        "colab": {}
      },
      "source": [
        "#list for storing accuracy of KNN and DTC\n",
        "KNN_accuracy=[]\n",
        "DTC_accuracy=[]\n",
        "\n",
        "for i in K :\n",
        "  KNN_class=KNN(n_neighbors=i)\n",
        "  KNN_iris=KNN_class.fit(train_data,train_target)  \n",
        "  \n",
        "  #Now KNN and DTC are trained no time for predection\n",
        "  \n",
        "  DTC_predict=DTC_iris.predict(test_data)\n",
        "  KNN_predict=KNN_iris.predict(test_data)\n",
        "  \n",
        "  #storing there accuracy \n",
        "  KNN_accuracy.append(accuracy_score(KNN_predict,test_target))\n",
        "  DTC_accuracy.append(accuracy_score(DTC_predict,test_target))\n",
        " \n",
        "\n",
        "  \n",
        "  "
      ],
      "execution_count": 0,
      "outputs": []
    },
    {
      "cell_type": "code",
      "metadata": {
        "id": "BcOCYbF4mMZ4",
        "colab_type": "code",
        "colab": {}
      },
      "source": [
        "#time for plotting graphs \n"
      ],
      "execution_count": 0,
      "outputs": []
    },
    {
      "cell_type": "code",
      "metadata": {
        "id": "VojSGXaym853",
        "colab_type": "code",
        "colab": {
          "base_uri": "https://localhost:8080/",
          "height": 313
        },
        "outputId": "2191ea46-faa9-4eaa-8f7e-53a509175c19"
      },
      "source": [
        "plt.title(\"KNN_vs_DTC at test data \"+str(percnt*100)+\"%\")\n",
        "plt.bar(K-0.25,KNN_accuracy,width=0.5,label=\"KNN\")\n",
        "plt.bar(K+0.25,DTC_accuracy,width=0.5,label=\"DTC\")\n",
        "plt.xlabel(\"KValues\")\n",
        "plt.ylabel(\"Accuracy_score\")\n",
        "plt.legend()\n",
        "plt.plot()\n"
      ],
      "execution_count": 62,
      "outputs": [
        {
          "output_type": "execute_result",
          "data": {
            "text/plain": [
              "[]"
            ]
          },
          "metadata": {
            "tags": []
          },
          "execution_count": 62
        },
        {
          "output_type": "display_data",
          "data": {
            "image/png": "[encoded data removed]",
            "text/plain": [
              "<Figure size 432x288 with 1 Axes>"
            ]
          },
          "metadata": {
            "tags": []
          }
        }
      ]
    },
    {
      "cell_type": "code",
      "metadata": {
        "id": "EgA0ph99nFi2",
        "colab_type": "code",
        "colab": {}
      },
      "source": [
        ""
      ],
      "execution_count": 0,
      "outputs": []
    }
  ]
}