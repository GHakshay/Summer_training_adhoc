{
  "nbformat": 4,
  "nbformat_minor": 0,
  "metadata": {
    "colab": {
      "name": "Supervised _ML_1",
      "version": "0.3.2",
      "provenance": [],
      "collapsed_sections": []
    },
    "kernelspec": {
      "name": "python3",
      "display_name": "Python 3"
    }
  },
  "cells": [
    {
      "cell_type": "code",
      "metadata": {
        "id": "sIu0ZSMo5jDs",
        "colab_type": "code",
        "colab": {}
      },
      "source": [
        "#IMporting required library"
      ],
      "execution_count": 0,
      "outputs": []
    },
    {
      "cell_type": "code",
      "metadata": {
        "id": "Tu1B0T4Y4X3S",
        "colab_type": "code",
        "colab": {}
      },
      "source": [
        "import numpy as np\n",
        "import pandas as pd\n",
        "from sklearn.tree import DecisionTreeClassifier as DTC\n",
        "from sklearn.metrics import accuracy_score\n",
        "#from sklearn.model_selection import train_test_split as tts test data is already provided"
      ],
      "execution_count": 0,
      "outputs": []
    },
    {
      "cell_type": "code",
      "metadata": {
        "id": "yqT6KeP65W-Q",
        "colab_type": "code",
        "colab": {}
      },
      "source": [
        "\n",
        "#now lets import data using  pandas"
      ],
      "execution_count": 0,
      "outputs": []
    },
    {
      "cell_type": "code",
      "metadata": {
        "id": "AdmLKBGs7dB5",
        "colab_type": "code",
        "colab": {}
      },
      "source": [
        "titanic_train=pd.read_csv('titanic_train_data.csv')\n",
        "titanic_test=pd.read_csv('Titanic_test_data.csv')\n",
        "\n"
      ],
      "execution_count": 0,
      "outputs": []
    },
    {
      "cell_type": "code",
      "metadata": {
        "id": "dHLzlXOi-0IP",
        "colab_type": "code",
        "colab": {
          "base_uri": "https://localhost:8080/",
          "height": 162
        },
        "outputId": "8111068b-5d95-4a89-f334-72abcedf06b9"
      },
      "source": [
        "#lets have a look at the data\n",
        "\n",
        "print(titanic_train.iloc[0:5,0:])"
      ],
      "execution_count": 26,
      "outputs": [
        {
          "output_type": "stream",
          "text": [
            "   Unnamed: 0  PassengerId  Survived  Sex  ...  Title_4  Emb_1  Emb_2  Emb_3\n",
            "0           0            1         0    1  ...        0      0      0      1\n",
            "1           1            2         1    0  ...        0      1      0      0\n",
            "2           2            3         1    0  ...        1      0      0      1\n",
            "3           3            4         1    0  ...        0      0      0      1\n",
            "4           4            5         0    1  ...        0      0      0      1\n",
            "\n",
            "[5 rows x 17 columns]\n"
          ],
          "name": "stdout"
        }
      ]
    },
    {
      "cell_type": "code",
      "metadata": {
        "id": "082yhrJb7ueT",
        "colab_type": "code",
        "colab": {}
      },
      "source": [
        "#we need to split features and labels from both the data and also remove unenecssary"
      ],
      "execution_count": 0,
      "outputs": []
    },
    {
      "cell_type": "code",
      "metadata": {
        "id": "lBBoVEJS93ij",
        "colab_type": "code",
        "colab": {}
      },
      "source": [
        "train_features=np.array(titanic_data.iloc[0:,3:])\n",
        "train_label=np.array(titanic_data.iloc[0:,2])\n",
        "\n",
        "test_features=np.array(titanic_test.iloc[0:,3:])\n",
        "test_label=np.array(titanic_test.iloc[0:,2])"
      ],
      "execution_count": 0,
      "outputs": []
    },
    {
      "cell_type": "code",
      "metadata": {
        "id": "YC_R6ya7AvzI",
        "colab_type": "code",
        "colab": {}
      },
      "source": [
        "#now lets create a classifier and train it"
      ],
      "execution_count": 0,
      "outputs": []
    },
    {
      "cell_type": "code",
      "metadata": {
        "id": "VLO2JnjvA0-A",
        "colab_type": "code",
        "colab": {}
      },
      "source": [
        "titanic_class=DTC()\n",
        "trained=titanic_class.fit(train_features,train_label)\n"
      ],
      "execution_count": 0,
      "outputs": []
    },
    {
      "cell_type": "code",
      "metadata": {
        "id": "ykgnR6woBCsA",
        "colab_type": "code",
        "colab": {}
      },
      "source": [
        "#Time for predicting\n"
      ],
      "execution_count": 0,
      "outputs": []
    },
    {
      "cell_type": "code",
      "metadata": {
        "id": "1fh9_bXhBFV6",
        "colab_type": "code",
        "colab": {}
      },
      "source": [
        "prediction=trained.predict(test_features)"
      ],
      "execution_count": 0,
      "outputs": []
    },
    {
      "cell_type": "code",
      "metadata": {
        "id": "0bG6t-TNBL_u",
        "colab_type": "code",
        "colab": {}
      },
      "source": [
        "# lets check our accuracy\n",
        "#print(accuracy_score(prediction,test_label))\n",
        "\n",
        "#skipped this part for the question"
      ],
      "execution_count": 0,
      "outputs": []
    },
    {
      "cell_type": "code",
      "metadata": {
        "id": "oU77t90ECQhe",
        "colab_type": "code",
        "colab": {}
      },
      "source": [
        "#counting no of zeroes and 1 in predection\n",
        "unique, counts = np.unique(prediction, return_counts=True)"
      ],
      "execution_count": 0,
      "outputs": []
    },
    {
      "cell_type": "code",
      "metadata": {
        "id": "rSILeNz4Dl4l",
        "colab_type": "code",
        "colab": {
          "base_uri": "https://localhost:8080/",
          "height": 35
        },
        "outputId": "1d6779a2-4287-45a0-eb63-edfbc1078556"
      },
      "source": [
        "survival=(counts[1]/len(prediction))*100\n",
        "print(\"Minimum Death Predection is \",survival,'%')"
      ],
      "execution_count": 54,
      "outputs": [
        {
          "output_type": "stream",
          "text": [
            "Minimum Death Predection is  41.0 %\n"
          ],
          "name": "stdout"
        }
      ]
    },
    {
      "cell_type": "code",
      "metadata": {
        "id": "rGr0sbw2ExbA",
        "colab_type": "code",
        "colab": {}
      },
      "source": [
        ""
      ],
      "execution_count": 0,
      "outputs": []
    }
  ]
}