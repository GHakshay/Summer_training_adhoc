{
  "nbformat": 4,
  "nbformat_minor": 0,
  "metadata": {
    "colab": {
      "name": "NLP1",
      "version": "0.3.2",
      "provenance": [],
      "collapsed_sections": []
    },
    "kernelspec": {
      "name": "python3",
      "display_name": "Python 3"
    }
  },
  "cells": [
    {
      "cell_type": "code",
      "metadata": {
        "id": "TQ7Romlz9U5m",
        "colab_type": "code",
        "colab": {}
      },
      "source": [
        "import cv2\n",
        "import nltk \n",
        "from nltk.corpus import stopwords\n",
        "from nltk.tokenize import word_tokenize as WT\n",
        "from nltk.tokenize import sent_tokenize as ST\n",
        "import pandas as pd"
      ],
      "execution_count": 0,
      "outputs": []
    },
    {
      "cell_type": "code",
      "metadata": {
        "id": "4FTyeM4UFhDj",
        "colab_type": "code",
        "colab": {
          "base_uri": "https://localhost:8080/",
          "height": 109
        },
        "outputId": "5a72a8d7-1e35-46f7-e6c8-d8e39b8ba9e7"
      },
      "source": [
        "qw111111111111111111111nltk.download('stopwords') # for collab \n",
        "nltk.download('punkt')     # for tokenizing"
      ],
      "execution_count": 68,
      "outputs": [
        {
          "output_type": "stream",
          "text": [
            "[nltk_data] Downloading package stopwords to /root/nltk_data...\n",
            "[nltk_data]   Package stopwords is already up-to-date!\n",
            "[nltk_data] Downloading package punkt to /root/nltk_data...\n",
            "[nltk_data]   Package punkt is already up-to-date!\n"
          ],
          "name": "stdout"
        },
        {
          "output_type": "execute_result",
          "data": {
            "text/plain": [
              "True"
            ]
          },
          "metadata": {
            "tags": []
          },
          "execution_count": 68
        }
      ]
    },
    {
      "cell_type": "code",
      "metadata": {
        "id": "yAqMRQeeF0lQ",
        "colab_type": "code",
        "colab": {}
      },
      "source": [
        "!pip install pytesseract # installing pytesseract\n",
        "!apt install tesseract-ocr # installing tesseract which is required on base machine\n",
        "!apt install libtesseract-dev"
      ],
      "execution_count": 0,
      "outputs": []
    },
    {
      "cell_type": "code",
      "metadata": {
        "id": "PY8alcyDF2bO",
        "colab_type": "code",
        "colab": {}
      },
      "source": [
        "from pytesseract import image_to_string"
      ],
      "execution_count": 0,
      "outputs": []
    },
    {
      "cell_type": "code",
      "metadata": {
        "id": "K6RKbtMvF4dC",
        "colab_type": "code",
        "colab": {}
      },
      "source": [
        "news=cv2.imread('roxy_monsoon_extreme_rainfall_indian_express_news_4oct2017.jpg')"
      ],
      "execution_count": 0,
      "outputs": []
    },
    {
      "cell_type": "code",
      "metadata": {
        "id": "0EhNklfEF6bG",
        "colab_type": "code",
        "colab": {}
      },
      "source": [
        "data=image_to_string(news,lang='eng')"
      ],
      "execution_count": 0,
      "outputs": []
    },
    {
      "cell_type": "code",
      "metadata": {
        "id": "WXhnbACQGjxa",
        "colab_type": "code",
        "colab": {}
      },
      "source": [
        "#creating csv file data just seperation all the words by ,\n",
        "file_data=''\n",
        "for line in data.split('\\n'):\n",
        "  file_data+=','.join(line.split())+'\\n'\n",
        " "
      ],
      "execution_count": 0,
      "outputs": []
    },
    {
      "cell_type": "code",
      "metadata": {
        "id": "1yKmqLx7JybK",
        "colab_type": "code",
        "colab": {}
      },
      "source": [
        "file=open('news.csv','w+')\n",
        "file.write(file_data)\n",
        "file.close()"
      ],
      "execution_count": 0,
      "outputs": []
    },
    {
      "cell_type": "code",
      "metadata": {
        "id": "pR-spu9gF9Op",
        "colab_type": "code",
        "colab": {}
      },
      "source": [
        "#lines=ST(data)\n",
        "#words=WT(' '.join(lines)) # this way count , and . as words so using spli function\n",
        "words=data.split()"
      ],
      "execution_count": 0,
      "outputs": []
    },
    {
      "cell_type": "code",
      "metadata": {
        "id": "0MmwdbqAF_ad",
        "colab_type": "code",
        "colab": {}
      },
      "source": [
        "clean_word=[word for word in words if word.lower() not in stopwords.words('english')]"
      ],
      "execution_count": 0,
      "outputs": []
    },
    {
      "cell_type": "code",
      "metadata": {
        "id": "XB-s2brLGBce",
        "colab_type": "code",
        "colab": {}
      },
      "source": [
        "frequency=nltk.FreqDist(clean_word)"
      ],
      "execution_count": 0,
      "outputs": []
    },
    {
      "cell_type": "code",
      "metadata": {
        "id": "fidbvN2KGDC2",
        "colab_type": "code",
        "colab": {
          "base_uri": "https://localhost:8080/",
          "height": 317
        },
        "outputId": "563fa44f-cbf4-4140-cb60-1419ac811d7c"
      },
      "source": [
        "frequency.plot(20) # plotting only top 20 for better view"
      ],
      "execution_count": 76,
      "outputs": [
        {
          "output_type": "display_data",
          "data": {
            "image/png": "[encoded data removed]",
            "text/plain": [
              "<Figure size 432x288 with 1 Axes>"
            ]
          },
          "metadata": {
            "tags": []
          }
        }
      ]
    }
  ]
}