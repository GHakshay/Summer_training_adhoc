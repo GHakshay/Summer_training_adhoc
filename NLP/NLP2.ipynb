{
  "nbformat": 4,
  "nbformat_minor": 0,
  "metadata": {
    "colab": {
      "name": "NLP2",
      "version": "0.3.2",
      "provenance": [],
      "collapsed_sections": []
    },
    "kernelspec": {
      "name": "python3",
      "display_name": "Python 3"
    }
  },
  "cells": [
    {
      "cell_type": "code",
      "metadata": {
        "id": "LA84vPUTMtwk",
        "colab_type": "code",
        "colab": {}
      },
      "source": [
        "from bs4 import BeautifulSoup\n",
        "from requests import get\n",
        "from nltk.corpus import stopwords\n",
        "from textblob import TextBlob\n",
        "from matplotlib import pyplot as plt"
      ],
      "execution_count": 0,
      "outputs": []
    },
    {
      "cell_type": "code",
      "metadata": {
        "id": "bupGzv7nNMm1",
        "colab_type": "code",
        "colab": {}
      },
      "source": [
        "#ets get the webpage\n",
        "webpage=get('https://www.consumeraffairs.com/travel/makemytrip.html')"
      ],
      "execution_count": 0,
      "outputs": []
    },
    {
      "cell_type": "code",
      "metadata": {
        "id": "UtnJz8SBRMM_",
        "colab_type": "code",
        "colab": {}
      },
      "source": [
        "# lets create a soup to to easily extract all the reviews\n",
        "soup=BeautifulSoup(webpage.text,'lxml')"
      ],
      "execution_count": 0,
      "outputs": []
    },
    {
      "cell_type": "code",
      "metadata": {
        "id": "rDXDUS6BW4bZ",
        "colab_type": "code",
        "colab": {}
      },
      "source": [
        "Totalpos=0\n",
        "Totalneg=0"
      ],
      "execution_count": 0,
      "outputs": []
    },
    {
      "cell_type": "code",
      "metadata": {
        "id": "WT64Q83aRh5k",
        "colab_type": "code",
        "colab": {
          "base_uri": "https://localhost:8080/",
          "height": 571
        },
        "outputId": "47e73e48-aa51-4fd2-f7fe-2e854fb401ba"
      },
      "source": [
        "for reviews in soup.find_all('div' ,attrs={'rvw js-rvw'}):\n",
        "  review=reviews.find_all('p')[1].contents\n",
        "  clear_word=[i for i in review if i not in stopwords.words('english')]\n",
        "  clear_word=' '.join(clear_word)  \n",
        "  analyze=TextBlob(clear_word)\n",
        "  if analyze.sentiment.polarity<0:\n",
        "    print(\"Negative Review\")\n",
        "    Totalpos+=1\n",
        "  else:\n",
        "    print(\"Positive Review\")\n",
        "    Totalneg+=1\n",
        "  "
      ],
      "execution_count": 45,
      "outputs": [
        {
          "output_type": "stream",
          "text": [
            "Positive Review\n",
            "Positive Review\n",
            "Positive Review\n",
            "Positive Review\n",
            "Positive Review\n",
            "Negative Review\n",
            "Positive Review\n",
            "Negative Review\n",
            "Negative Review\n",
            "Negative Review\n",
            "Positive Review\n",
            "Negative Review\n",
            "Positive Review\n",
            "Negative Review\n",
            "Negative Review\n",
            "Positive Review\n",
            "Positive Review\n",
            "Positive Review\n",
            "Positive Review\n",
            "Positive Review\n",
            "Negative Review\n",
            "Negative Review\n",
            "Positive Review\n",
            "Negative Review\n",
            "Negative Review\n",
            "Negative Review\n",
            "Negative Review\n",
            "Positive Review\n",
            "Positive Review\n",
            "Negative Review\n"
          ],
          "name": "stdout"
        }
      ]
    },
    {
      "cell_type": "code",
      "metadata": {
        "id": "4AaXhVR3RjS5",
        "colab_type": "code",
        "colab": {
          "base_uri": "https://localhost:8080/",
          "height": 269
        },
        "outputId": "1ad88b21-6bdb-4f5a-d768-f664a95b3e67"
      },
      "source": [
        "plt.bar(['Postive','Negative'],[Totalpos,Totalneg])\n",
        "plt.show()"
      ],
      "execution_count": 47,
      "outputs": [
        {
          "output_type": "display_data",
          "data": {
            "image/png": "[encoded data removed]",
            "text/plain": [
              "<Figure size 432x288 with 1 Axes>"
            ]
          },
          "metadata": {
            "tags": []
          }
        }
      ]
    },
    {
      "cell_type": "code",
      "metadata": {
        "id": "zj1ufJXKX5r9",
        "colab_type": "code",
        "colab": {}
      },
      "source": [
        ""
      ],
      "execution_count": 0,
      "outputs": []
    }
  ]
}